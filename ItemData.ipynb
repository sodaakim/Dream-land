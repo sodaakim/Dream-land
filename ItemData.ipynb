{
 "cells": [
  {
   "cell_type": "code",
   "execution_count": 5,
   "metadata": {},
   "outputs": [
    {
     "name": "stdout",
     "output_type": "stream",
     "text": [
      "CSV 파일이 ../item/items.csv 경로에 생성되었습니다.\n"
     ]
    }
   ],
   "source": [
    "import csv\n",
    "import os\n",
    "import random\n",
    "import string\n",
    "\n",
    "# 아이템 정보를 담은 리스트\n",
    "items = []\n",
    "\n",
    "# 무작위로 아이템 생성 및 리스트에 추가\n",
    "for i in range(50):\n",
    "    name = ''.join(random.choices(string.ascii_letters, k=5))  # 임의의 이름 생성\n",
    "    image_path = f\"/Game/Textures/{name}\"\n",
    "    price = random.randint(50, 200)  # 임의의 가격 생성\n",
    "    count = random.randint(1, 10)  # 임의의 수량 생성\n",
    "    items.append({\"Name\": name, \"ImagePath\": image_path, \"Price\": price, \"Count\": count})\n",
    "\n",
    "# CSV 파일 생성 위치\n",
    "output_folder = \"../item\"  # 폴더 밖으로 2번 나가고 \"item\" 폴더 내에 저장\n",
    "\n",
    "# CSV 파일 생성 및 데이터 작성\n",
    "output_path = os.path.join(output_folder, 'items.csv')\n",
    "os.makedirs(output_folder, exist_ok=True)  # 폴더가 없으면 생성\n",
    "\n",
    "with open(output_path, 'w', newline='') as csvfile:\n",
    "    fieldnames = ['Name', 'ImagePath', 'Price', 'Count']\n",
    "    writer = csv.DictWriter(csvfile, fieldnames=fieldnames)\n",
    "\n",
    "    writer.writeheader()  # 헤더 쓰기\n",
    "\n",
    "    for item in items:\n",
    "        writer.writerow(item)  # 각 품목의 정보를 CSV 파일에 작성\n",
    "\n",
    "print(f\"CSV 파일이 {output_path} 경로에 생성되었습니다.\")\n"
   ]
  }
 ],
 "metadata": {
  "kernelspec": {
   "display_name": "jupyterE",
   "language": "python",
   "name": "python3"
  },
  "language_info": {
   "codemirror_mode": {
    "name": "ipython",
    "version": 3
   },
   "file_extension": ".py",
   "mimetype": "text/x-python",
   "name": "python",
   "nbconvert_exporter": "python",
   "pygments_lexer": "ipython3",
   "version": "3.9.18"
  }
 },
 "nbformat": 4,
 "nbformat_minor": 2
}
